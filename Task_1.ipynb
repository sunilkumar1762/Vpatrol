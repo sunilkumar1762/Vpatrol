{
  "nbformat": 4,
  "nbformat_minor": 0,
  "metadata": {
    "colab": {
      "provenance": [],
      "authorship_tag": "ABX9TyM27MSbVvX3gVOjT6MHhxL9",
      "include_colab_link": true
    },
    "kernelspec": {
      "name": "python3",
      "display_name": "Python 3"
    },
    "language_info": {
      "name": "python"
    }
  },
  "cells": [
    {
      "cell_type": "markdown",
      "metadata": {
        "id": "view-in-github",
        "colab_type": "text"
      },
      "source": [
        "<a href=\"https://colab.research.google.com/github/sunilkumar1762/Vpatrol/blob/main/Task_1.ipynb\" target=\"_parent\"><img src=\"https://colab.research.google.com/assets/colab-badge.svg\" alt=\"Open In Colab\"/></a>"
      ]
    },
    {
      "cell_type": "code",
      "execution_count": null,
      "metadata": {
        "colab": {
          "base_uri": "https://localhost:8080/"
        },
        "id": "ey3ONKMHym92",
        "outputId": "bd55941b-1744-4e38-812f-223a6e8ffd0b"
      },
      "outputs": [
        {
          "output_type": "stream",
          "name": "stdout",
          "text": [
            "[{'city': 'CityA', 'average_temperature': 23.0, 'average_humidity': 77.5}, {'city': 'CityB', 'average_temperature': 20.0, 'average_humidity': 70.0}]\n"
          ]
        }
      ],
      "source": [
        "def aggregate_weather_data(records):\n",
        "    city_data = {}\n",
        "\n",
        "    for record in records:\n",
        "        city = record['city']\n",
        "        if city not in city_data:\n",
        "            city_data[city] = {'temperature_sum': 0, 'humidity_sum': 0, 'temp_count': 0, 'humidity_count': 0}\n",
        "\n",
        "        if 'temperature' in record:\n",
        "            city_data[city]['temperature_sum'] += record['temperature']\n",
        "            city_data[city]['temp_count'] += 1\n",
        "\n",
        "        if 'humidity' in record:\n",
        "            city_data[city]['humidity_sum'] += record['humidity']\n",
        "            city_data[city]['humidity_count'] += 1\n",
        "\n",
        "    results = []\n",
        "    for city, data in city_data.items():\n",
        "        avg_temp = data['temperature_sum'] / data['temp_count'] if data['temp_count'] > 0 else None\n",
        "        avg_humidity = data['humidity_sum'] / data['humidity_count'] if data['humidity_count'] > 0 else None\n",
        "        results.append({'city': city, 'average_temperature': avg_temp, 'average_humidity': avg_humidity})\n",
        "\n",
        "    return results\n",
        "\n",
        "# Example usage:\n",
        "records = [\n",
        "    {'city': 'CityA', 'temperature': 22, 'humidity': 80},\n",
        "    {'city': 'CityA', 'temperature': 24},\n",
        "    {'city': 'CityB', 'humidity': 70},\n",
        "    {'city': 'CityA', 'humidity': 75},\n",
        "    {'city': 'CityB', 'temperature': 20}\n",
        "]\n",
        "\n",
        "print(aggregate_weather_data(records))\n"
      ]
    }
  ]
}