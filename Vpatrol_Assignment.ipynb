{
  "nbformat": 4,
  "nbformat_minor": 0,
  "metadata": {
    "colab": {
      "provenance": [],
      "authorship_tag": "ABX9TyMxx9MH8jSnjYMDT5XEEF8o",
      "include_colab_link": true
    },
    "kernelspec": {
      "name": "python3",
      "display_name": "Python 3"
    },
    "language_info": {
      "name": "python"
    }
  },
  "cells": [
    {
      "cell_type": "markdown",
      "metadata": {
        "id": "view-in-github",
        "colab_type": "text"
      },
      "source": [
        "<a href=\"https://colab.research.google.com/github/sunilkumar1762/Vpatrol/blob/main/Vpatrol_Assignment.ipynb\" target=\"_parent\"><img src=\"https://colab.research.google.com/assets/colab-badge.svg\" alt=\"Open In Colab\"/></a>"
      ]
    },
    {
      "cell_type": "markdown",
      "source": [
        "# Importing libraries\n"
      ],
      "metadata": {
        "id": "V9XkPPsizqKG"
      }
    },
    {
      "cell_type": "code",
      "execution_count": 1,
      "metadata": {
        "colab": {
          "base_uri": "https://localhost:8080/"
        },
        "id": "i1IWsXc4p1xU",
        "outputId": "b9c61540-bdf4-48f6-be4d-724808f7f3ce"
      },
      "outputs": [
        {
          "output_type": "stream",
          "name": "stdout",
          "text": [
            "Requirement already satisfied: geopandas in /usr/local/lib/python3.10/dist-packages (0.14.4)\n",
            "Requirement already satisfied: folium in /usr/local/lib/python3.10/dist-packages (0.17.0)\n",
            "Requirement already satisfied: fiona>=1.8.21 in /usr/local/lib/python3.10/dist-packages (from geopandas) (1.9.6)\n",
            "Requirement already satisfied: numpy>=1.22 in /usr/local/lib/python3.10/dist-packages (from geopandas) (1.26.4)\n",
            "Requirement already satisfied: packaging in /usr/local/lib/python3.10/dist-packages (from geopandas) (24.1)\n",
            "Requirement already satisfied: pandas>=1.4.0 in /usr/local/lib/python3.10/dist-packages (from geopandas) (2.1.4)\n",
            "Requirement already satisfied: pyproj>=3.3.0 in /usr/local/lib/python3.10/dist-packages (from geopandas) (3.6.1)\n",
            "Requirement already satisfied: shapely>=1.8.0 in /usr/local/lib/python3.10/dist-packages (from geopandas) (2.0.5)\n",
            "Requirement already satisfied: branca>=0.6.0 in /usr/local/lib/python3.10/dist-packages (from folium) (0.7.2)\n",
            "Requirement already satisfied: jinja2>=2.9 in /usr/local/lib/python3.10/dist-packages (from folium) (3.1.4)\n",
            "Requirement already satisfied: requests in /usr/local/lib/python3.10/dist-packages (from folium) (2.32.3)\n",
            "Requirement already satisfied: xyzservices in /usr/local/lib/python3.10/dist-packages (from folium) (2024.6.0)\n",
            "Requirement already satisfied: attrs>=19.2.0 in /usr/local/lib/python3.10/dist-packages (from fiona>=1.8.21->geopandas) (24.2.0)\n",
            "Requirement already satisfied: certifi in /usr/local/lib/python3.10/dist-packages (from fiona>=1.8.21->geopandas) (2024.7.4)\n",
            "Requirement already satisfied: click~=8.0 in /usr/local/lib/python3.10/dist-packages (from fiona>=1.8.21->geopandas) (8.1.7)\n",
            "Requirement already satisfied: click-plugins>=1.0 in /usr/local/lib/python3.10/dist-packages (from fiona>=1.8.21->geopandas) (1.1.1)\n",
            "Requirement already satisfied: cligj>=0.5 in /usr/local/lib/python3.10/dist-packages (from fiona>=1.8.21->geopandas) (0.7.2)\n",
            "Requirement already satisfied: six in /usr/local/lib/python3.10/dist-packages (from fiona>=1.8.21->geopandas) (1.16.0)\n",
            "Requirement already satisfied: MarkupSafe>=2.0 in /usr/local/lib/python3.10/dist-packages (from jinja2>=2.9->folium) (2.1.5)\n",
            "Requirement already satisfied: python-dateutil>=2.8.2 in /usr/local/lib/python3.10/dist-packages (from pandas>=1.4.0->geopandas) (2.8.2)\n",
            "Requirement already satisfied: pytz>=2020.1 in /usr/local/lib/python3.10/dist-packages (from pandas>=1.4.0->geopandas) (2024.1)\n",
            "Requirement already satisfied: tzdata>=2022.1 in /usr/local/lib/python3.10/dist-packages (from pandas>=1.4.0->geopandas) (2024.1)\n",
            "Requirement already satisfied: charset-normalizer<4,>=2 in /usr/local/lib/python3.10/dist-packages (from requests->folium) (3.3.2)\n",
            "Requirement already satisfied: idna<4,>=2.5 in /usr/local/lib/python3.10/dist-packages (from requests->folium) (3.7)\n",
            "Requirement already satisfied: urllib3<3,>=1.21.1 in /usr/local/lib/python3.10/dist-packages (from requests->folium) (2.0.7)\n"
          ]
        }
      ],
      "source": [
        "import pandas as pd\n",
        "import geopandas as gpd\n",
        "import folium\n",
        "from folium.plugins import HeatMap\n",
        "import matplotlib.pyplot as plt\n",
        "\n",
        "# Install necessary packages\n",
        "!pip install geopandas folium\n"
      ]
    },
    {
      "cell_type": "markdown",
      "source": [
        "Exploring the Data"
      ],
      "metadata": {
        "id": "151R3Eg6z0ET"
      }
    },
    {
      "cell_type": "code",
      "source": [
        "# Load the Excel file\n",
        "file_path = '/content/Assingment_Dataset.xlsx'  # Replace with the actual file path\n",
        "excel_data = pd.ExcelFile(file_path)\n",
        "\n",
        "# Load each sheet into a DataFrame\n",
        "geospatial_data = pd.read_excel(excel_data, sheet_name='Geospatial Data')\n",
        "satellite_details = pd.read_excel(excel_data, sheet_name='Satellite Details')\n",
        "news_reports = pd.read_excel(excel_data, sheet_name='News Reports')\n",
        "historical_incidents = pd.read_excel(excel_data, sheet_name='Historical Incidents')\n",
        "\n",
        "# Create a pivot table for geospatial data\n",
        "geospatial_pivot = pd.pivot_table(geospatial_data,\n",
        "                                  values='Timestamp',\n",
        "                                  index='Location',\n",
        "                                  columns='Movement Type',\n",
        "                                  aggfunc='count',\n",
        "                                  fill_value=0)\n",
        "\n",
        "print(\"\\nGeospatial Data Pivot Table:\")\n",
        "print(geospatial_pivot)\n",
        "\n"
      ],
      "metadata": {
        "colab": {
          "base_uri": "https://localhost:8080/"
        },
        "id": "YzPNvB58p_FA",
        "outputId": "34519532-15e6-4907-807f-3c57dd2ce0bf"
      },
      "execution_count": 2,
      "outputs": [
        {
          "output_type": "stream",
          "name": "stdout",
          "text": [
            "\n",
            "Geospatial Data Pivot Table:\n",
            "Movement Type        Entry  Exit\n",
            "Location                        \n",
            "Border Post Alpha        3     2\n",
            "Border Post Bravo        3     3\n",
            "Border Post Charlie      3     3\n",
            "Border Post Delta        3     3\n",
            "Border Post Echo         4     3\n"
          ]
        }
      ]
    },
    {
      "source": [
        "# Create a pivot table for Satellite Details\n",
        "satellite_pivot = pd.pivot_table(satellite_details,\n",
        "                                 values='Image ID',  # Check for typos and capitalization in the column name\n",
        "                                 index='Date',\n",
        "                                 columns='Location',  # Assuming there's a 'Status' column (e.g., Active, Inactive)\n",
        "                                 aggfunc='count',  # Use 'count' as an example aggregation function\n",
        "                                 fill_value=0)\n",
        "\n",
        "print(\"\\nSatellite Details Pivot Table:\")\n",
        "print(satellite_pivot)"
      ],
      "cell_type": "code",
      "metadata": {
        "colab": {
          "base_uri": "https://localhost:8080/"
        },
        "id": "3UySRD4GsPWp",
        "outputId": "67724e9b-c54c-4b03-9cfe-6d993165a55b"
      },
      "execution_count": 3,
      "outputs": [
        {
          "output_type": "stream",
          "name": "stdout",
          "text": [
            "\n",
            "Satellite Details Pivot Table:\n",
            "Location    Border Post Alpha  Border Post Bravo  Border Post Charlie  \\\n",
            "Date                                                                    \n",
            "2024-03-01                  1                  0                    0   \n",
            "2024-03-03                  1                  0                    0   \n",
            "2024-03-05                  1                  0                    0   \n",
            "2024-03-07                  1                  0                    0   \n",
            "2024-03-09                  1                  0                    0   \n",
            "2024-03-12                  0                  1                    0   \n",
            "2024-03-14                  0                  1                    0   \n",
            "2024-03-17                  0                  1                    0   \n",
            "2024-03-19                  0                  1                    0   \n",
            "2024-03-22                  0                  1                    0   \n",
            "2024-03-24                  0                  0                    1   \n",
            "2024-03-27                  0                  0                    1   \n",
            "2024-03-29                  0                  0                    1   \n",
            "2024-04-01                  0                  0                    1   \n",
            "2024-04-03                  0                  0                    1   \n",
            "2024-04-05                  0                  0                    0   \n",
            "2024-04-07                  0                  0                    0   \n",
            "2024-04-10                  0                  0                    0   \n",
            "2024-04-12                  0                  0                    0   \n",
            "2024-04-15                  0                  0                    0   \n",
            "2024-04-17                  0                  0                    0   \n",
            "2024-04-19                  0                  0                    0   \n",
            "2024-04-22                  0                  0                    0   \n",
            "2024-04-24                  0                  0                    0   \n",
            "2024-04-27                  0                  0                    0   \n",
            "2024-04-29                  0                  0                    0   \n",
            "2024-05-02                  0                  0                    0   \n",
            "2024-05-04                  0                  0                    0   \n",
            "2024-05-07                  0                  0                    0   \n",
            "2024-05-09                  0                  0                    0   \n",
            "\n",
            "Location    Border Post Delta  Border Post Echo  Border Post Foxtrot  \n",
            "Date                                                                  \n",
            "2024-03-01                  0                 0                    0  \n",
            "2024-03-03                  0                 0                    0  \n",
            "2024-03-05                  0                 0                    0  \n",
            "2024-03-07                  0                 0                    0  \n",
            "2024-03-09                  0                 0                    0  \n",
            "2024-03-12                  0                 0                    0  \n",
            "2024-03-14                  0                 0                    0  \n",
            "2024-03-17                  0                 0                    0  \n",
            "2024-03-19                  0                 0                    0  \n",
            "2024-03-22                  0                 0                    0  \n",
            "2024-03-24                  0                 0                    0  \n",
            "2024-03-27                  0                 0                    0  \n",
            "2024-03-29                  0                 0                    0  \n",
            "2024-04-01                  0                 0                    0  \n",
            "2024-04-03                  0                 0                    0  \n",
            "2024-04-05                  1                 0                    0  \n",
            "2024-04-07                  1                 0                    0  \n",
            "2024-04-10                  1                 0                    0  \n",
            "2024-04-12                  1                 0                    0  \n",
            "2024-04-15                  1                 0                    0  \n",
            "2024-04-17                  0                 1                    0  \n",
            "2024-04-19                  0                 1                    0  \n",
            "2024-04-22                  0                 1                    0  \n",
            "2024-04-24                  0                 1                    0  \n",
            "2024-04-27                  0                 1                    0  \n",
            "2024-04-29                  0                 0                    1  \n",
            "2024-05-02                  0                 0                    1  \n",
            "2024-05-04                  0                 0                    1  \n",
            "2024-05-07                  0                 0                    1  \n",
            "2024-05-09                  0                 0                    1  \n"
          ]
        }
      ]
    },
    {
      "cell_type": "code",
      "source": [
        "\n",
        "news_reports_df = excel_data.parse('News Reports')\n",
        "historical_incidents_df = excel_data.parse('Historical Incidents')\n",
        "\n",
        "# Pivot table for News Reports\n",
        "news_pivot = pd.pivot_table(\n",
        "    news_reports_df,\n",
        "    index='Date',              # Rows by Date\n",
        "    columns='Source',          # Columns by Source\n",
        "    values='ID',               # Aggregate based on ID\n",
        "    aggfunc='count',           # Counting occurrences\n",
        "    fill_value=0               # Fill missing values with 0\n",
        ")\n",
        "\n",
        "# Pivot table for Historical Incidents\n",
        "incidents_pivot = pd.pivot_table(\n",
        "    historical_incidents_df,\n",
        "    index='Date',              # Rows by Date\n",
        "    columns='Location',        # Columns by Location\n",
        "    values='Incident ID',      # Aggregate based on Incident ID\n",
        "    aggfunc='count',           # Counting occurrences\n",
        "    fill_value=0               # Fill missing values with 0\n",
        ")\n",
        "\n",
        "# Display the pivot tables\n",
        "print(\"News Reports Pivot Table:\")\n",
        "print(news_pivot)\n",
        "print(\"\\nHistorical Incidents Pivot Table:\")\n",
        "print(incidents_pivot)\n",
        "\n",
        "# If you want to save the pivot tables to a new Excel file:\n",
        "with pd.ExcelWriter('Pivot_Tables.xlsx') as writer:\n",
        "    news_pivot.to_excel(writer, sheet_name='News Reports Pivot')\n",
        "    incidents_pivot.to_excel(writer, sheet_name='Historical Incidents Pivot')\n"
      ],
      "metadata": {
        "colab": {
          "base_uri": "https://localhost:8080/"
        },
        "id": "h6NV4s6Pswlr",
        "outputId": "804b5f45-f4e3-4705-dc7e-c23970b42e25"
      },
      "execution_count": 4,
      "outputs": [
        {
          "output_type": "stream",
          "name": "stdout",
          "text": [
            "News Reports Pivot Table:\n",
            "Source      Border News  Border Watch  Defense Insider  Defense News  \\\n",
            "Date                                                                   \n",
            "2024-03-01            0             0                0             0   \n",
            "2024-03-03            0             0                0             0   \n",
            "2024-03-05            0             0                0             0   \n",
            "2024-03-07            0             1                0             0   \n",
            "2024-03-09            0             0                0             1   \n",
            "2024-03-12            0             0                0             0   \n",
            "2024-03-14            0             0                0             0   \n",
            "2024-03-17            1             0                0             0   \n",
            "2024-03-19            0             0                0             0   \n",
            "2024-03-22            0             0                0             0   \n",
            "2024-03-24            0             0                1             0   \n",
            "2024-03-27            0             1                0             0   \n",
            "2024-03-29            0             0                0             0   \n",
            "2024-04-01            0             0                0             0   \n",
            "2024-04-03            1             0                0             0   \n",
            "2024-04-05            0             0                0             0   \n",
            "2024-04-07            0             0                0             0   \n",
            "2024-04-10            0             0                0             1   \n",
            "2024-04-12            0             0                0             0   \n",
            "2024-04-15            0             0                0             0   \n",
            "2024-04-17            0             0                1             0   \n",
            "2024-04-19            0             0                0             0   \n",
            "2024-04-22            0             0                0             0   \n",
            "2024-04-24            0             0                0             0   \n",
            "2024-04-27            0             1                0             0   \n",
            "2024-04-29            0             0                0             0   \n",
            "2024-05-02            0             0                0             0   \n",
            "2024-05-04            1             0                0             0   \n",
            "2024-05-07            0             0                0             0   \n",
            "2024-05-09            0             0                1             0   \n",
            "\n",
            "Source      Global Security  Global Times  International News  \\\n",
            "Date                                                            \n",
            "2024-03-01                0             0                   0   \n",
            "2024-03-03                0             0                   0   \n",
            "2024-03-05                1             0                   0   \n",
            "2024-03-07                0             0                   0   \n",
            "2024-03-09                0             0                   0   \n",
            "2024-03-12                0             0                   0   \n",
            "2024-03-14                0             1                   0   \n",
            "2024-03-17                0             0                   0   \n",
            "2024-03-19                0             0                   1   \n",
            "2024-03-22                0             0                   0   \n",
            "2024-03-24                0             0                   0   \n",
            "2024-03-27                0             0                   0   \n",
            "2024-03-29                0             0                   0   \n",
            "2024-04-01                1             0                   0   \n",
            "2024-04-03                0             0                   0   \n",
            "2024-04-05                0             0                   0   \n",
            "2024-04-07                0             0                   0   \n",
            "2024-04-10                0             0                   0   \n",
            "2024-04-12                0             1                   0   \n",
            "2024-04-15                0             0                   0   \n",
            "2024-04-17                0             0                   0   \n",
            "2024-04-19                0             0                   1   \n",
            "2024-04-22                0             0                   0   \n",
            "2024-04-24                1             0                   0   \n",
            "2024-04-27                0             0                   0   \n",
            "2024-04-29                0             0                   0   \n",
            "2024-05-02                0             0                   0   \n",
            "2024-05-04                0             0                   0   \n",
            "2024-05-07                0             1                   0   \n",
            "2024-05-09                0             0                   0   \n",
            "\n",
            "Source      International Times  National Daily  National News A  \\\n",
            "Date                                                               \n",
            "2024-03-01                    0               0                1   \n",
            "2024-03-03                    1               0                0   \n",
            "2024-03-05                    0               0                0   \n",
            "2024-03-07                    0               0                0   \n",
            "2024-03-09                    0               0                0   \n",
            "2024-03-12                    0               0                0   \n",
            "2024-03-14                    0               0                0   \n",
            "2024-03-17                    0               0                0   \n",
            "2024-03-19                    0               0                0   \n",
            "2024-03-22                    0               1                0   \n",
            "2024-03-24                    0               0                0   \n",
            "2024-03-27                    0               0                0   \n",
            "2024-03-29                    0               0                1   \n",
            "2024-04-01                    0               0                0   \n",
            "2024-04-03                    0               0                0   \n",
            "2024-04-05                    1               0                0   \n",
            "2024-04-07                    0               0                0   \n",
            "2024-04-10                    0               0                0   \n",
            "2024-04-12                    0               0                0   \n",
            "2024-04-15                    0               1                0   \n",
            "2024-04-17                    0               0                0   \n",
            "2024-04-19                    0               0                0   \n",
            "2024-04-22                    0               0                1   \n",
            "2024-04-24                    0               0                0   \n",
            "2024-04-27                    0               0                0   \n",
            "2024-04-29                    1               0                0   \n",
            "2024-05-02                    0               1                0   \n",
            "2024-05-04                    0               0                0   \n",
            "2024-05-07                    0               0                0   \n",
            "2024-05-09                    0               0                0   \n",
            "\n",
            "Source      National News B  \n",
            "Date                         \n",
            "2024-03-01                0  \n",
            "2024-03-03                0  \n",
            "2024-03-05                0  \n",
            "2024-03-07                0  \n",
            "2024-03-09                0  \n",
            "2024-03-12                1  \n",
            "2024-03-14                0  \n",
            "2024-03-17                0  \n",
            "2024-03-19                0  \n",
            "2024-03-22                0  \n",
            "2024-03-24                0  \n",
            "2024-03-27                0  \n",
            "2024-03-29                0  \n",
            "2024-04-01                0  \n",
            "2024-04-03                0  \n",
            "2024-04-05                0  \n",
            "2024-04-07                1  \n",
            "2024-04-10                0  \n",
            "2024-04-12                0  \n",
            "2024-04-15                0  \n",
            "2024-04-17                0  \n",
            "2024-04-19                0  \n",
            "2024-04-22                0  \n",
            "2024-04-24                0  \n",
            "2024-04-27                0  \n",
            "2024-04-29                0  \n",
            "2024-05-02                0  \n",
            "2024-05-04                0  \n",
            "2024-05-07                0  \n",
            "2024-05-09                0  \n",
            "\n",
            "Historical Incidents Pivot Table:\n",
            "Location    Border Post Alpha  Border Post Bravo  Border Post Charlie  \\\n",
            "Date                                                                    \n",
            "2022-01-10                  1                  0                    0   \n",
            "2022-02-05                  0                  1                    0   \n",
            "2022-03-12                  0                  0                    1   \n",
            "2022-04-20                  0                  0                    0   \n",
            "2022-05-25                  0                  0                    0   \n",
            "2022-06-15                  1                  0                    0   \n",
            "2022-07-22                  0                  1                    0   \n",
            "2022-08-30                  0                  0                    1   \n",
            "2022-09-18                  0                  0                    0   \n",
            "2022-10-25                  0                  0                    0   \n",
            "2023-01-12                  1                  0                    0   \n",
            "2023-02-08                  0                  1                    0   \n",
            "2023-03-14                  0                  0                    1   \n",
            "2023-04-20                  0                  0                    0   \n",
            "2023-05-25                  0                  0                    0   \n",
            "2023-06-30                  1                  0                    0   \n",
            "2023-07-15                  0                  1                    0   \n",
            "2023-08-20                  0                  0                    1   \n",
            "2023-09-10                  0                  0                    0   \n",
            "2023-10-05                  0                  0                    0   \n",
            "2023-11-12                  1                  0                    0   \n",
            "2023-12-08                  0                  1                    0   \n",
            "2024-01-15                  0                  0                    1   \n",
            "2024-02-20                  0                  0                    0   \n",
            "2024-03-25                  0                  0                    0   \n",
            "2024-04-30                  1                  0                    0   \n",
            "2024-05-20                  0                  1                    0   \n",
            "2024-06-15                  0                  0                    1   \n",
            "2024-07-10                  0                  0                    0   \n",
            "2024-08-01                  0                  0                    0   \n",
            "\n",
            "Location    Border Post Delta  Border Post Echo  \n",
            "Date                                             \n",
            "2022-01-10                  0                 0  \n",
            "2022-02-05                  0                 0  \n",
            "2022-03-12                  0                 0  \n",
            "2022-04-20                  1                 0  \n",
            "2022-05-25                  0                 1  \n",
            "2022-06-15                  0                 0  \n",
            "2022-07-22                  0                 0  \n",
            "2022-08-30                  0                 0  \n",
            "2022-09-18                  1                 0  \n",
            "2022-10-25                  0                 1  \n",
            "2023-01-12                  0                 0  \n",
            "2023-02-08                  0                 0  \n",
            "2023-03-14                  0                 0  \n",
            "2023-04-20                  1                 0  \n",
            "2023-05-25                  0                 1  \n",
            "2023-06-30                  0                 0  \n",
            "2023-07-15                  0                 0  \n",
            "2023-08-20                  0                 0  \n",
            "2023-09-10                  1                 0  \n",
            "2023-10-05                  0                 1  \n",
            "2023-11-12                  0                 0  \n",
            "2023-12-08                  0                 0  \n",
            "2024-01-15                  0                 0  \n",
            "2024-02-20                  1                 0  \n",
            "2024-03-25                  0                 1  \n",
            "2024-04-30                  0                 0  \n",
            "2024-05-20                  0                 0  \n",
            "2024-06-15                  0                 0  \n",
            "2024-07-10                  1                 0  \n",
            "2024-08-01                  0                 1  \n"
          ]
        }
      ]
    },
    {
      "cell_type": "markdown",
      "source": [
        "Geospatial Analysis"
      ],
      "metadata": {
        "id": "nwLokX0P0Hzr"
      }
    },
    {
      "cell_type": "code",
      "source": [
        "import geopandas as gpd\n",
        "import folium\n",
        "from folium.plugins import HeatMap\n",
        "\n",
        "# Create a GeoDataFrame for geospatial data\n",
        "gdf = gpd.GeoDataFrame(\n",
        "    geospatial_data, geometry=gpd.points_from_xy(geospatial_data.Longitude, geospatial_data.Latitude)\n",
        ")\n",
        "\n",
        "# Create a base map\n",
        "m = folium.Map(location=[geospatial_data['Latitude'].mean(), geospatial_data['Longitude'].mean()], zoom_start=6)\n",
        "\n",
        "# Add heat map\n",
        "HeatMap(data=geospatial_data[['Latitude', 'Longitude']].values, radius=10).add_to(m)\n",
        "\n",
        "# Save the map to an HTML file\n",
        "m.save('geospatial_heatmap.html')\n"
      ],
      "metadata": {
        "id": "zdEbfQYcu34h"
      },
      "execution_count": 5,
      "outputs": []
    },
    {
      "cell_type": "code",
      "source": [
        "import pandas as pd\n",
        "import matplotlib.pyplot as plt\n",
        "import seaborn as sns\n",
        "\n",
        "# Assuming 'geospatial_data' is a DataFrame, load it from your file\n",
        "geospatial_data = pd.read_excel('Assingment_Dataset.xlsx', sheet_name='Geospatial Data')\n",
        "\n",
        "# Set up the matplotlib figure\n",
        "plt.figure(figsize=(10, 8))\n",
        "\n",
        "# Use seaborn to create a heatmap\n",
        "sns.kdeplot(\n",
        "    x=geospatial_data['Longitude'],\n",
        "    y=geospatial_data['Latitude'],\n",
        "    cmap=\"viridis\",\n",
        "    fill=True,\n",
        "    thresh=0,\n",
        "    levels=100\n",
        ")\n",
        "\n",
        "# Add labels and title\n",
        "plt.title('Geospatial Data Heatmap')\n",
        "plt.xlabel('Longitude')\n",
        "plt.ylabel('Latitude')\n",
        "\n",
        "# Show the heatmap\n",
        "plt.show()\n"
      ],
      "metadata": {
        "colab": {
          "base_uri": "https://localhost:8080/",
          "height": 713
        },
        "id": "d7GJuhm3vTzJ",
        "outputId": "eee02364-1f36-4ad8-a72f-54690644b936"
      },
      "execution_count": 6,
      "outputs": [
        {
          "output_type": "display_data",
          "data": {
            "text/plain": [
              "<Figure size 1000x800 with 1 Axes>"
            ],
            "image/png": "[encoded data removed]"
          },
          "metadata": {}
        }
      ]
    },
    {
      "cell_type": "markdown",
      "source": [
        "Satellite Details Interpretation"
      ],
      "metadata": {
        "id": "oYNzIJjq0Qk3"
      }
    },
    {
      "cell_type": "code",
      "source": [
        "import pandas as pd\n",
        "\n",
        "# Load satellite details\n",
        "satellite_details = pd.read_excel('Assingment_Dataset.xlsx', sheet_name='Satellite Details')\n",
        "\n",
        "# Display key changes\n",
        "for index, row in satellite_details.iterrows():\n",
        "    print(f\"Date: {row['Date']}, Location: {row['Location']}\")\n",
        "    print(f\"Description: {row['Description']}\\n\")\n"
      ],
      "metadata": {
        "colab": {
          "base_uri": "https://localhost:8080/"
        },
        "id": "ugrrV73iwE0E",
        "outputId": "71f7bed3-655a-4e33-a57a-38254910ea8d"
      },
      "execution_count": 7,
      "outputs": [
        {
          "output_type": "stream",
          "name": "stdout",
          "text": [
            "Date: 2024-03-01 00:00:00, Location: Border Post Alpha\n",
            "Description: High-resolution image showing vehicle movement\n",
            "\n",
            "Date: 2024-03-03 00:00:00, Location: Border Post Alpha\n",
            "Description: Image showing increased military presence\n",
            "\n",
            "Date: 2024-03-05 00:00:00, Location: Border Post Alpha\n",
            "Description: Image showing an empty area\n",
            "\n",
            "Date: 2024-03-07 00:00:00, Location: Border Post Alpha\n",
            "Description: Image showing troop withdrawal\n",
            "\n",
            "Date: 2024-03-09 00:00:00, Location: Border Post Alpha\n",
            "Description: Image showing new infrastructure developments\n",
            "\n",
            "Date: 2024-03-12 00:00:00, Location: Border Post Bravo\n",
            "Description: High-resolution image showing vehicle movement\n",
            "\n",
            "Date: 2024-03-14 00:00:00, Location: Border Post Bravo\n",
            "Description: Image showing increased military presence\n",
            "\n",
            "Date: 2024-03-17 00:00:00, Location: Border Post Bravo\n",
            "Description: Image showing an empty area\n",
            "\n",
            "Date: 2024-03-19 00:00:00, Location: Border Post Bravo\n",
            "Description: Image showing troop withdrawal\n",
            "\n",
            "Date: 2024-03-22 00:00:00, Location: Border Post Bravo\n",
            "Description: Image showing new infrastructure developments\n",
            "\n",
            "Date: 2024-03-24 00:00:00, Location: Border Post Charlie\n",
            "Description: High-resolution image showing vehicle movement\n",
            "\n",
            "Date: 2024-03-27 00:00:00, Location: Border Post Charlie\n",
            "Description: Image showing increased military presence\n",
            "\n",
            "Date: 2024-03-29 00:00:00, Location: Border Post Charlie\n",
            "Description: Image showing an empty area\n",
            "\n",
            "Date: 2024-04-01 00:00:00, Location: Border Post Charlie\n",
            "Description: Image showing troop withdrawal\n",
            "\n",
            "Date: 2024-04-03 00:00:00, Location: Border Post Charlie\n",
            "Description: Image showing new infrastructure developments\n",
            "\n",
            "Date: 2024-04-05 00:00:00, Location: Border Post Delta\n",
            "Description: High-resolution image showing vehicle movement\n",
            "\n",
            "Date: 2024-04-07 00:00:00, Location: Border Post Delta\n",
            "Description: Image showing increased military presence\n",
            "\n",
            "Date: 2024-04-10 00:00:00, Location: Border Post Delta\n",
            "Description: Image showing an empty area\n",
            "\n",
            "Date: 2024-04-12 00:00:00, Location: Border Post Delta\n",
            "Description: Image showing troop withdrawal\n",
            "\n",
            "Date: 2024-04-15 00:00:00, Location: Border Post Delta\n",
            "Description: Image showing new infrastructure developments\n",
            "\n",
            "Date: 2024-04-17 00:00:00, Location: Border Post Echo\n",
            "Description: High-resolution image showing vehicle movement\n",
            "\n",
            "Date: 2024-04-19 00:00:00, Location: Border Post Echo\n",
            "Description: Image showing increased military presence\n",
            "\n",
            "Date: 2024-04-22 00:00:00, Location: Border Post Echo\n",
            "Description: Image showing an empty area\n",
            "\n",
            "Date: 2024-04-24 00:00:00, Location: Border Post Echo\n",
            "Description: Image showing troop withdrawal\n",
            "\n",
            "Date: 2024-04-27 00:00:00, Location: Border Post Echo\n",
            "Description: Image showing new infrastructure developments\n",
            "\n",
            "Date: 2024-04-29 00:00:00, Location: Border Post Foxtrot\n",
            "Description: High-resolution image showing vehicle movement\n",
            "\n",
            "Date: 2024-05-02 00:00:00, Location: Border Post Foxtrot\n",
            "Description: Image showing increased military presence\n",
            "\n",
            "Date: 2024-05-04 00:00:00, Location: Border Post Foxtrot\n",
            "Description: Image showing an empty area\n",
            "\n",
            "Date: 2024-05-07 00:00:00, Location: Border Post Foxtrot\n",
            "Description: Image showing troop withdrawal\n",
            "\n",
            "Date: 2024-05-09 00:00:00, Location: Border Post Foxtrot\n",
            "Description: Image showing new infrastructure developments\n",
            "\n"
          ]
        }
      ]
    },
    {
      "cell_type": "markdown",
      "source": [
        "Correlation with Open-Source Intelligence (OSINT)"
      ],
      "metadata": {
        "id": "GvI-i1lm0bMq"
      }
    },
    {
      "cell_type": "code",
      "source": [
        "osint_data = pd.read_excel(excel_data, sheet_name='News Reports')\n"
      ],
      "metadata": {
        "id": "8WvIhgRdwdOn"
      },
      "execution_count": 8,
      "outputs": []
    },
    {
      "cell_type": "code",
      "source": [
        "\n",
        "# Load the 'News Reports' sheet by name\n",
        "news_reports = pd.read_excel(file_path, sheet_name='News Reports')\n",
        "print(\"News Reports Data Preview:\")\n",
        "print(news_reports.head())\n",
        "\n",
        "# Load the 'Geospatial Data' sheet by name\n",
        "geospatial_data = pd.read_excel(file_path, sheet_name='Geospatial Data')\n",
        "print(\"\\nGeospatial Data Preview:\")\n",
        "print(geospatial_data.head())\n",
        "\n",
        "# Find matching locations between geospatial data and news reports\n",
        "matched_locations = geospatial_data[geospatial_data['Location'].isin(news_reports['Source'])]\n",
        "print(\"\\nMatched Locations:\")\n",
        "print(matched_locations.head())\n",
        "print(f\"\\nNumber of matched locations: {len(matched_locations)}\")\n"
      ],
      "metadata": {
        "colab": {
          "base_uri": "https://localhost:8080/"
        },
        "id": "0y1rwhkGw3ia",
        "outputId": "21c1391f-6ea9-4474-dad8-46354e6f535c"
      },
      "execution_count": 9,
      "outputs": [
        {
          "output_type": "stream",
          "name": "stdout",
          "text": [
            "News Reports Data Preview:\n",
            "   ID       Date               Source                               Title  \\\n",
            "0   1 2024-03-01      National News A            Border Tensions Increase   \n",
            "1   2 2024-03-03  International Times  New Military Installations Spotted   \n",
            "2   3 2024-03-05      Global Security            Diplomatic Talks Stalled   \n",
            "3   4 2024-03-07         Border Watch      Escalation in Border Incidents   \n",
            "4   5 2024-03-09         Defense News             Troop Movement Observed   \n",
            "\n",
            "                                             Summary  \n",
            "0  Rising tensions between Country A and Country ...  \n",
            "1  Satellite images reveal new military installat...  \n",
            "2  Diplomatic talks between Country A and Country...  \n",
            "3  Reports indicate an increase in cross-border i...  \n",
            "4  Significant troop movements observed along the...  \n",
            "\n",
            "Geospatial Data Preview:\n",
            "   ID           Timestamp  Latitude  Longitude           Location  \\\n",
            "0   1 2024-03-01 07:15:00   28.7041    77.1025  Border Post Alpha   \n",
            "1   2 2024-03-02 12:30:00   28.7042    77.1030  Border Post Alpha   \n",
            "2   3 2024-03-05 08:15:00   28.7043    77.1032  Border Post Alpha   \n",
            "3   4 2024-03-07 10:00:00   28.7044    77.1035  Border Post Alpha   \n",
            "4   5 2024-03-09 14:45:00   28.7045    77.1038  Border Post Alpha   \n",
            "\n",
            "  Movement Type    Country  \n",
            "0         Entry  Country A  \n",
            "1          Exit  Country A  \n",
            "2         Entry  Country A  \n",
            "3          Exit  Country A  \n",
            "4         Entry  Country A  \n",
            "\n",
            "Matched Locations:\n",
            "Empty DataFrame\n",
            "Columns: [ID, Timestamp, Latitude, Longitude, Location, Movement Type, Country]\n",
            "Index: []\n",
            "\n",
            "Number of matched locations: 0\n"
          ]
        }
      ]
    },
    {
      "cell_type": "code",
      "source": [
        "incident_counts = historical_incidents['Location'].value_counts()\n",
        "print(incident_counts)\n",
        "incident_counts.plot(kind='bar')\n",
        "plt.title('Historical Incident Counts by Location')\n",
        "plt.savefig('incident_counts.png')"
      ],
      "metadata": {
        "colab": {
          "base_uri": "https://localhost:8080/",
          "height": 712
        },
        "id": "XYqcT4NyxB-4",
        "outputId": "5b56030c-8472-4a13-ea57-3dbd635c52f5"
      },
      "execution_count": 10,
      "outputs": [
        {
          "output_type": "stream",
          "name": "stdout",
          "text": [
            "Location\n",
            "Border Post Alpha      6\n",
            "Border Post Bravo      6\n",
            "Border Post Charlie    6\n",
            "Border Post Delta      6\n",
            "Border Post Echo       6\n",
            "Name: count, dtype: int64\n"
          ]
        },
        {
          "output_type": "display_data",
          "data": {
            "text/plain": [
              "<Figure size 640x480 with 1 Axes>"
            ],
            "image/png": "[encoded data removed]"
          },
          "metadata": {}
        }
      ]
    },
    {
      "cell_type": "markdown",
      "source": [],
      "metadata": {
        "id": "qnhfPTSSzntN"
      }
    }
  ]
}